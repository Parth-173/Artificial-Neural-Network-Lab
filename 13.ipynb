{
 "cells": [
  {
   "cell_type": "markdown",
   "id": "785791d0",
   "metadata": {},
   "source": [
    "### Practical No. 13"
   ]
  },
  {
   "cell_type": "code",
   "execution_count": 1,
   "id": "538c8179",
   "metadata": {},
   "outputs": [
    {
     "data": {
      "image/png": "[encoded data removed]",
      "text/plain": [
       "<Figure size 640x480 with 9 Axes>"
      ]
     },
     "metadata": {},
     "output_type": "display_data"
    }
   ],
   "source": [
    "from tensorflow import keras\n",
    "from keras.datasets import mnist \n",
    "from matplotlib import pyplot \n",
    "(X_train, y_train), (X_test, y_test) = mnist.load_data() \n",
    "for i in range(0, 9): \n",
    "    pyplot.subplot(330 + 1 + i) \n",
    "    pyplot.imshow(X_train[i], cmap=pyplot.get_cmap('gray'))\n",
    "pyplot.show()"
   ]
  },
  {
   "cell_type": "code",
   "execution_count": null,
   "id": "40a04e9a",
   "metadata": {},
   "outputs": [],
   "source": [
    "import numpy\n",
    "from keras.datasets import mnist\n",
    "from keras.models import Sequential\n",
    "from keras.layers import Dense, Dropout\n",
    "from keras.utils import to_categorical\n",
    "seed = 7\n",
    "numpy.random.seed(seed)\n",
    "(X_train, y_train), (X_test, y_test) = mnist.load_data()\n",
    "num_pixels = X_train.shape[1] * X_train.shape[2]\n",
    "X_train = X_train.reshape(X_train.shape[0], num_pixels).astype('float32')\n",
    "X_test = X_test.reshape(X_test.shape[0], num_pixels).astype('float32')\n",
    "X_train /= 255;X_test /= 255\n",
    "y_train = to_categorical(y_train);y_test = to_categorical(y_test)\n",
    "num_classes = y_test.shape[1]"
   ]
  },
  {
   "cell_type": "code",
   "execution_count": 4,
   "id": "a61d9a19",
   "metadata": {},
   "outputs": [],
   "source": [
    "def baseline_model():\n",
    "\tmodel = Sequential()\n",
    "\tmodel.add(Dense(num_pixels, input_dim=num_pixels, kernel_initializer='normal', activation='relu'))\n",
    "\tmodel.add(Dense(num_classes, kernel_initializer='normal', activation='softmax'))\n",
    "\tmodel.compile(loss='categorical_crossentropy', optimizer='adam', metrics=['accuracy'])\n",
    "\treturn model"
   ]
  },
  {
   "cell_type": "code",
   "execution_count": null,
   "id": "b59dacb9",
   "metadata": {},
   "outputs": [
    {
     "name": "stdout",
     "output_type": "stream",
     "text": [
      "Epoch 1/10\n"
     ]
    },
    {
     "name": "stderr",
     "output_type": "stream",
     "text": [
      "e:\\College\\Third_Year\\Sem-6\\Artificial-Neural-Network\\venv\\Lib\\site-packages\\keras\\src\\layers\\core\\dense.py:87: UserWarning: Do not pass an `input_shape`/`input_dim` argument to a layer. When using Sequential models, prefer using an `Input(shape)` object as the first layer in the model instead.\n",
      "  super().__init__(activity_regularizer=activity_regularizer, **kwargs)\n"
     ]
    },
    {
     "name": "stdout",
     "output_type": "stream",
     "text": [
      "300/300 - 2s - 7ms/step - accuracy: 0.9206 - loss: 0.2789 - val_accuracy: 0.9583 - val_loss: 0.1419\n",
      "Epoch 2/10\n",
      "300/300 - 1s - 4ms/step - accuracy: 0.9679 - loss: 0.1113 - val_accuracy: 0.9700 - val_loss: 0.0967\n",
      "Epoch 3/10\n",
      "300/300 - 1s - 4ms/step - accuracy: 0.9790 - loss: 0.0720 - val_accuracy: 0.9744 - val_loss: 0.0811\n",
      "Epoch 4/10\n",
      "300/300 - 1s - 4ms/step - accuracy: 0.9857 - loss: 0.0496 - val_accuracy: 0.9789 - val_loss: 0.0708\n",
      "Epoch 5/10\n",
      "300/300 - 1s - 4ms/step - accuracy: 0.9899 - loss: 0.0368 - val_accuracy: 0.9771 - val_loss: 0.0705\n",
      "Epoch 6/10\n",
      "300/300 - 1s - 4ms/step - accuracy: 0.9924 - loss: 0.0274 - val_accuracy: 0.9779 - val_loss: 0.0702\n",
      "Epoch 7/10\n",
      "300/300 - 1s - 4ms/step - accuracy: 0.9945 - loss: 0.0203 - val_accuracy: 0.9801 - val_loss: 0.0645\n",
      "Epoch 8/10\n",
      "300/300 - 2s - 5ms/step - accuracy: 0.9967 - loss: 0.0149 - val_accuracy: 0.9797 - val_loss: 0.0622\n",
      "Epoch 9/10\n",
      "300/300 - 1s - 4ms/step - accuracy: 0.9978 - loss: 0.0106 - val_accuracy: 0.9819 - val_loss: 0.0592\n",
      "Epoch 10/10\n",
      "300/300 - 1s - 5ms/step - accuracy: 0.9987 - loss: 0.0081 - val_accuracy: 0.9821 - val_loss: 0.0592\n",
      "Baseline Error: 1.79%\n"
     ]
    }
   ],
   "source": [
    "model = baseline_model()\n",
    "model.fit(X_train, y_train, validation_data=(X_test, y_test), epochs=10, batch_size=200, verbose=2)\n",
    "scores = model.evaluate(X_test, y_test, verbose=0)\n",
    "print(\"Baseline Error: %.2f%%\" % (100-scores[1]*100))"
   ]
  }
 ],
 "metadata": {
  "kernelspec": {
   "display_name": "Python 3",
   "language": "python",
   "name": "python3"
  },
  "language_info": {
   "codemirror_mode": {
    "name": "ipython",
    "version": 3
   },
   "file_extension": ".py",
   "mimetype": "text/x-python",
   "name": "python",
   "nbconvert_exporter": "python",
   "pygments_lexer": "ipython3",
   "version": "3.11.0"
  }
 },
 "nbformat": 4,
 "nbformat_minor": 5
}
