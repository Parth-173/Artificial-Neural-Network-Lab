{
 "cells": [
  {
   "cell_type": "code",
   "execution_count": 2,
   "metadata": {},
   "outputs": [],
   "source": [
    "import numpy as np"
   ]
  },
  {
   "cell_type": "code",
   "execution_count": 3,
   "metadata": {},
   "outputs": [],
   "source": [
    "class Perceptron:\n",
    "    def __init__(self,inputSize, learningRate = 0.1):\n",
    "        self.weights = np.random.randn(inputSize)\n",
    "        self.bias = np.random.randn()\n",
    "        self.learningRate = learningRate\n",
    "        \n",
    "    def activationFunction(self,x):\n",
    "        return 1 if x>=0 else 0\n",
    "    \n",
    "    def predict(self,x):\n",
    "        linearOutput = np.dot(x,self.weights) + self.bias\n",
    "        return self.activationFunction(linearOutput)\n",
    "    \n",
    "    def train(self,xTrain,yTrain,epochs = 10):\n",
    "        for epoch in range(epochs):\n",
    "            for x,y in zip(xTrain,yTrain):\n",
    "                yPredict = self.predict(x)\n",
    "                error = y - yPredict\n",
    "                self.weights += self.learningRate * error * np.array(x)\n",
    "                self.bias += self.learningRate * error"
   ]
  },
  {
   "cell_type": "code",
   "execution_count": 4,
   "metadata": {},
   "outputs": [],
   "source": [
    "asciiDigits = [ord(str(i)) for i in range(10)]\n",
    "xTrain = [[int(bit) for bit in format(asciiValue,'08b')] for asciiValue in asciiDigits]\n",
    "yTrain = [0 if i%2==0 else 1 for i in range(10)]"
   ]
  },
  {
   "cell_type": "code",
   "execution_count": 5,
   "metadata": {},
   "outputs": [],
   "source": [
    "inputSize = len(xTrain[0])\n",
    "perceptron = Perceptron(inputSize)\n",
    "\n",
    "perceptron.train(xTrain,yTrain,epochs=10)"
   ]
  },
  {
   "cell_type": "code",
   "execution_count": 6,
   "metadata": {},
   "outputs": [
    {
     "name": "stdout",
     "output_type": "stream",
     "text": [
      "Testing The Perceptron:\n",
      "\n",
      "Number : 0 , Predetion : Even\n",
      "Number : 1 , Predetion : Odd\n",
      "Number : 2 , Predetion : Even\n",
      "Number : 3 , Predetion : Odd\n",
      "Number : 4 , Predetion : Even\n",
      "Number : 5 , Predetion : Odd\n",
      "Number : 6 , Predetion : Even\n",
      "Number : 7 , Predetion : Odd\n",
      "Number : 8 , Predetion : Even\n",
      "Number : 9 , Predetion : Odd\n"
     ]
    }
   ],
   "source": [
    "print(\"Testing The Perceptron:\\n\")\n",
    "for i in range(10):\n",
    "    x = [int(bit) for bit in format(asciiDigits[i],'08b')]\n",
    "    predection = perceptron.predict(x)\n",
    "    label = \"Odd\" if predection == 1 else \"Even\"\n",
    "    print(f\"Number : {i} , Predetion : {label}\")"
   ]
  },
  {
   "cell_type": "code",
   "execution_count": 7,
   "metadata": {},
   "outputs": [
    {
     "name": "stdout",
     "output_type": "stream",
     "text": [
      "Your number: 5, Prediction: Odd\n",
      "Your number: 6, Prediction: Even\n",
      "Your number: 1, Prediction: Odd\n",
      "Your number: 0, Prediction: Even\n",
      "Exiting...\n"
     ]
    }
   ],
   "source": [
    "while True:\n",
    "    userInput = input(\"Enter a single digit (0-9) (or 'n; to exit) : \")\n",
    "    if userInput.lower() == 'n':\n",
    "        print(\"Exiting...\")\n",
    "        break\n",
    "    elif userInput.isdigit() and 0<= int(userInput)<=9:\n",
    "        userNumber = int(userInput)\n",
    "        userX = [int(bit) for bit in format(ord(str(userInput)),'08b')]\n",
    "        userPrediction = perceptron.predict(userX)\n",
    "        userLabel = \"Odd\" if userPrediction == 1 else \"Even\"\n",
    "        print(f\"Your number: {userNumber}, Prediction: {userLabel}\")\n",
    "    else:\n",
    "        print(\"Invalid input. Please enter a digit between 0 and 9, or 'n' to exit.\")\n",
    "        \n",
    "    "
   ]
  },
  {
   "cell_type": "code",
   "execution_count": null,
   "metadata": {},
   "outputs": [],
   "source": []
  },
  {
   "cell_type": "code",
   "execution_count": null,
   "metadata": {},
   "outputs": [],
   "source": []
  },
  {
   "cell_type": "code",
   "execution_count": null,
   "metadata": {},
   "outputs": [],
   "source": []
  },
  {
   "cell_type": "code",
   "execution_count": null,
   "metadata": {},
   "outputs": [],
   "source": []
  },
  {
   "cell_type": "code",
   "execution_count": 8,
   "metadata": {},
   "outputs": [
    {
     "name": "stdout",
     "output_type": "stream",
     "text": [
      "Testing the Perceptron:\n",
      "\n",
      "Number: 0, Prediction: Even\n",
      "Number: 1, Prediction: Odd\n",
      "Number: 2, Prediction: Even\n",
      "Number: 3, Prediction: Odd\n",
      "Number: 4, Prediction: Even\n",
      "Number: 5, Prediction: Odd\n",
      "Number: 6, Prediction: Even\n",
      "Number: 7, Prediction: Odd\n",
      "Number: 8, Prediction: Even\n",
      "Number: 9, Prediction: Odd\n",
      "Invalid input. Please enter an integer, or 'n' to exit.\n",
      "Invalid input. Please enter an integer, or 'n' to exit.\n",
      "Invalid input. Please enter an integer, or 'n' to exit.\n",
      "Invalid input. Please enter an integer, or 'n' to exit.\n",
      "Invalid input. Please enter an integer, or 'n' to exit.\n",
      "Invalid input. Please enter an integer, or 'n' to exit.\n"
     ]
    },
    {
     "ename": "KeyboardInterrupt",
     "evalue": "Interrupted by user",
     "output_type": "error",
     "traceback": [
      "\u001b[1;31m---------------------------------------------------------------------------\u001b[0m",
      "\u001b[1;31mKeyboardInterrupt\u001b[0m                         Traceback (most recent call last)",
      "Cell \u001b[1;32mIn[8], line 47\u001b[0m\n\u001b[0;32m     45\u001b[0m \u001b[38;5;66;03m# Take user input in a loop\u001b[39;00m\n\u001b[0;32m     46\u001b[0m \u001b[38;5;28;01mwhile\u001b[39;00m \u001b[38;5;28;01mTrue\u001b[39;00m:\n\u001b[1;32m---> 47\u001b[0m     user_input \u001b[38;5;241m=\u001b[39m \u001b[38;5;28;43minput\u001b[39;49m\u001b[43m(\u001b[49m\u001b[38;5;124;43m\"\u001b[39;49m\u001b[38;5;124;43mEnter any integer (or \u001b[39;49m\u001b[38;5;124;43m'\u001b[39;49m\u001b[38;5;124;43mn\u001b[39;49m\u001b[38;5;124;43m'\u001b[39;49m\u001b[38;5;124;43m to exit): \u001b[39;49m\u001b[38;5;124;43m\"\u001b[39;49m\u001b[43m)\u001b[49m\n\u001b[0;32m     48\u001b[0m     \u001b[38;5;28;01mif\u001b[39;00m user_input\u001b[38;5;241m.\u001b[39mlower() \u001b[38;5;241m==\u001b[39m \u001b[38;5;124m'\u001b[39m\u001b[38;5;124mn\u001b[39m\u001b[38;5;124m'\u001b[39m:\n\u001b[0;32m     49\u001b[0m         \u001b[38;5;28mprint\u001b[39m(\u001b[38;5;124m\"\u001b[39m\u001b[38;5;124mExiting...\u001b[39m\u001b[38;5;124m\"\u001b[39m)\n",
      "File \u001b[1;32me:\\College\\Third_Year\\Sem-6\\Artificial Neural Network\\venv\\Lib\\site-packages\\ipykernel\\kernelbase.py:1282\u001b[0m, in \u001b[0;36mKernel.raw_input\u001b[1;34m(self, prompt)\u001b[0m\n\u001b[0;32m   1280\u001b[0m     msg \u001b[38;5;241m=\u001b[39m \u001b[38;5;124m\"\u001b[39m\u001b[38;5;124mraw_input was called, but this frontend does not support input requests.\u001b[39m\u001b[38;5;124m\"\u001b[39m\n\u001b[0;32m   1281\u001b[0m     \u001b[38;5;28;01mraise\u001b[39;00m StdinNotImplementedError(msg)\n\u001b[1;32m-> 1282\u001b[0m \u001b[38;5;28;01mreturn\u001b[39;00m \u001b[38;5;28;43mself\u001b[39;49m\u001b[38;5;241;43m.\u001b[39;49m\u001b[43m_input_request\u001b[49m\u001b[43m(\u001b[49m\n\u001b[0;32m   1283\u001b[0m \u001b[43m    \u001b[49m\u001b[38;5;28;43mstr\u001b[39;49m\u001b[43m(\u001b[49m\u001b[43mprompt\u001b[49m\u001b[43m)\u001b[49m\u001b[43m,\u001b[49m\n\u001b[0;32m   1284\u001b[0m \u001b[43m    \u001b[49m\u001b[38;5;28;43mself\u001b[39;49m\u001b[38;5;241;43m.\u001b[39;49m\u001b[43m_parent_ident\u001b[49m\u001b[43m[\u001b[49m\u001b[38;5;124;43m\"\u001b[39;49m\u001b[38;5;124;43mshell\u001b[39;49m\u001b[38;5;124;43m\"\u001b[39;49m\u001b[43m]\u001b[49m\u001b[43m,\u001b[49m\n\u001b[0;32m   1285\u001b[0m \u001b[43m    \u001b[49m\u001b[38;5;28;43mself\u001b[39;49m\u001b[38;5;241;43m.\u001b[39;49m\u001b[43mget_parent\u001b[49m\u001b[43m(\u001b[49m\u001b[38;5;124;43m\"\u001b[39;49m\u001b[38;5;124;43mshell\u001b[39;49m\u001b[38;5;124;43m\"\u001b[39;49m\u001b[43m)\u001b[49m\u001b[43m,\u001b[49m\n\u001b[0;32m   1286\u001b[0m \u001b[43m    \u001b[49m\u001b[43mpassword\u001b[49m\u001b[38;5;241;43m=\u001b[39;49m\u001b[38;5;28;43;01mFalse\u001b[39;49;00m\u001b[43m,\u001b[49m\n\u001b[0;32m   1287\u001b[0m \u001b[43m\u001b[49m\u001b[43m)\u001b[49m\n",
      "File \u001b[1;32me:\\College\\Third_Year\\Sem-6\\Artificial Neural Network\\venv\\Lib\\site-packages\\ipykernel\\kernelbase.py:1325\u001b[0m, in \u001b[0;36mKernel._input_request\u001b[1;34m(self, prompt, ident, parent, password)\u001b[0m\n\u001b[0;32m   1322\u001b[0m \u001b[38;5;28;01mexcept\u001b[39;00m \u001b[38;5;167;01mKeyboardInterrupt\u001b[39;00m:\n\u001b[0;32m   1323\u001b[0m     \u001b[38;5;66;03m# re-raise KeyboardInterrupt, to truncate traceback\u001b[39;00m\n\u001b[0;32m   1324\u001b[0m     msg \u001b[38;5;241m=\u001b[39m \u001b[38;5;124m\"\u001b[39m\u001b[38;5;124mInterrupted by user\u001b[39m\u001b[38;5;124m\"\u001b[39m\n\u001b[1;32m-> 1325\u001b[0m     \u001b[38;5;28;01mraise\u001b[39;00m \u001b[38;5;167;01mKeyboardInterrupt\u001b[39;00m(msg) \u001b[38;5;28;01mfrom\u001b[39;00m\u001b[38;5;250m \u001b[39m\u001b[38;5;28;01mNone\u001b[39;00m\n\u001b[0;32m   1326\u001b[0m \u001b[38;5;28;01mexcept\u001b[39;00m \u001b[38;5;167;01mException\u001b[39;00m:\n\u001b[0;32m   1327\u001b[0m     \u001b[38;5;28mself\u001b[39m\u001b[38;5;241m.\u001b[39mlog\u001b[38;5;241m.\u001b[39mwarning(\u001b[38;5;124m\"\u001b[39m\u001b[38;5;124mInvalid Message:\u001b[39m\u001b[38;5;124m\"\u001b[39m, exc_info\u001b[38;5;241m=\u001b[39m\u001b[38;5;28;01mTrue\u001b[39;00m)\n",
      "\u001b[1;31mKeyboardInterrupt\u001b[0m: Interrupted by user"
     ]
    }
   ],
   "source": [
    "import numpy as np\n",
    "\n",
    "class Perceptron:\n",
    "    def __init__(self, input_size, lr=0.1):\n",
    "        self.weights = np.random.randn(input_size)  # Initialize weights randomly\n",
    "        self.bias = np.random.randn()              # Initialize bias randomly\n",
    "        self.lr = lr                               # Learning rate\n",
    "\n",
    "    def activation_function(self, x):\n",
    "        return 1 if x >= 0 else 0\n",
    "\n",
    "    def predict(self, x):\n",
    "        linear_output = np.dot(x, self.weights) + self.bias\n",
    "        return self.activation_function(linear_output)\n",
    "\n",
    "    def train(self, x_train, y_train, epochs=10):\n",
    "        for epoch in range(epochs):\n",
    "            for x, y in zip(x_train, y_train):\n",
    "                y_pred = self.predict(x)\n",
    "                error = y - y_pred\n",
    "                # Update weights and bias\n",
    "                self.weights += self.lr * error * np.array(x)\n",
    "                self.bias += self.lr * error\n",
    "\n",
    "# Prepare training data for digits 0 to 9 in ASCII form\n",
    "ascii_digits = [ord(str(i)) for i in range(10)]\n",
    "x_train = [[int(bit) for bit in format(ascii_val, '08b')] for ascii_val in ascii_digits]\n",
    "y_train = [0 if i % 2 == 0 else 1 for i in range(10)]  # 0 for even, 1 for odd\n",
    "\n",
    "# Initialize the perceptron\n",
    "input_size = len(x_train[0])  # Each input is an 8-bit ASCII representation\n",
    "perceptron = Perceptron(input_size)\n",
    "\n",
    "# Train the perceptron\n",
    "perceptron.train(x_train, y_train, epochs=10)\n",
    "\n",
    "# Test the perceptron\n",
    "print(\"Testing the Perceptron:\\n\")\n",
    "for i in range(10):\n",
    "    x = [int(bit) for bit in format(ascii_digits[i], '08b')]\n",
    "    prediction = perceptron.predict(x)\n",
    "    label = \"Odd\" if prediction == 1 else \"Even\"\n",
    "    print(f\"Number: {i}, Prediction: {label}\")\n",
    "\n",
    "# Take user input in a loop\n",
    "while True:\n",
    "    user_input = input(\"Enter any integer (or 'n' to exit): \")\n",
    "    if user_input.lower() == 'n':\n",
    "        print(\"Exiting...\")\n",
    "        break\n",
    "    elif user_input.lstrip('-').isdigit():  # Check if input is an integer\n",
    "        user_number = int(user_input)\n",
    "        user_x = [int(bit) for bit in format(user_number % 256, '08b')]  # Handle any integer\n",
    "        user_prediction = perceptron.predict(user_x)\n",
    "        user_label = \"Odd\" if user_prediction == 1 else \"Even\"\n",
    "        print(f\"Your number: {user_number}, Prediction: {user_label}\")\n",
    "    else:\n",
    "        print(\"Invalid input. Please enter an integer, or 'n' to exit.\")\n"
   ]
  },
  {
   "cell_type": "code",
   "execution_count": null,
   "metadata": {},
   "outputs": [],
   "source": []
  },
  {
   "cell_type": "code",
   "execution_count": null,
   "metadata": {},
   "outputs": [],
   "source": []
  }
 ],
 "metadata": {
  "kernelspec": {
   "display_name": "Python 3",
   "language": "python",
   "name": "python3"
  },
  "language_info": {
   "codemirror_mode": {
    "name": "ipython",
    "version": 3
   },
   "file_extension": ".py",
   "mimetype": "text/x-python",
   "name": "python",
   "nbconvert_exporter": "python",
   "pygments_lexer": "ipython3",
   "version": "3.11.0"
  }
 },
 "nbformat": 4,
 "nbformat_minor": 2
}
