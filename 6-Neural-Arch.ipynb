{
 "cells": [
  {
   "cell_type": "code",
   "execution_count": 2,
   "metadata": {},
   "outputs": [],
   "source": [
    "import numpy as np\n",
    "import numpy as np\n",
    "from sklearn.datasets import make_classification\n",
    "from sklearn.model_selection import train_test_split\n",
    "from sklearn.preprocessing import OneHotEncoder"
   ]
  },
  {
   "cell_type": "code",
   "execution_count": 3,
   "metadata": {},
   "outputs": [],
   "source": [
    "def relu(x):\n",
    "    return np.maximum(0, x)"
   ]
  },
  {
   "cell_type": "code",
   "execution_count": 4,
   "metadata": {},
   "outputs": [],
   "source": [
    "def softmax(x):\n",
    "    exp_x = np.exp(x - np.max(x, axis=1, keepdims=True))\n",
    "    return exp_x / np.sum(exp_x, axis=1, keepdims=True)"
   ]
  },
  {
   "cell_type": "code",
   "execution_count": 5,
   "metadata": {},
   "outputs": [],
   "source": [
    "def initialize_params(input_size, hidden_size, output_size):\n",
    "    return {\n",
    "        \"W1\": np.random.randn(input_size, hidden_size) * 0.01,\n",
    "        \"b1\": np.zeros((1, hidden_size)),\n",
    "        \"W2\": np.random.randn(hidden_size, output_size) * 0.01,\n",
    "        \"b2\": np.zeros((1, output_size))\n",
    "    }"
   ]
  },
  {
   "cell_type": "code",
   "execution_count": 6,
   "metadata": {},
   "outputs": [],
   "source": [
    "def forward(X, params):\n",
    "    Z1 = X @ params[\"W1\"] + params[\"b1\"]\n",
    "    A1 = relu(Z1)\n",
    "    Z2 = A1 @ params[\"W2\"] + params[\"b2\"]\n",
    "    A2 = softmax(Z2)\n",
    "    return A1, A2\n",
    "\n",
    "def backward(X, Y, A1, A2, params, lr):\n",
    "    m = X.shape[0]\n",
    "    dZ2 = A2 - Y\n",
    "    params[\"W2\"] -= lr * (A1.T @ dZ2) / m\n",
    "    params[\"b2\"] -= lr * np.mean(dZ2, axis=0, keepdims=True)\n",
    "    dZ1 = (dZ2 @ params[\"W2\"].T) * (A1 > 0)\n",
    "    params[\"W1\"] -= lr * (X.T @ dZ1) / m\n",
    "    params[\"b1\"] -= lr * np.mean(dZ1, axis=0, keepdims=True)\n",
    "\n",
    "def train(X, Y, hidden_size=100, epochs=1000, lr=0.01):\n",
    "    params = initialize_params(X.shape[1], hidden_size, Y.shape[1])\n",
    "    for _ in range(epochs):\n",
    "        A1, A2 = forward(X, params)\n",
    "        backward(X, Y, A1, A2, params, lr)\n",
    "    return params\n",
    "\n",
    "def predict(X, params):\n",
    "    _, A2 = forward(X, params)\n",
    "    return np.argmax(A2, axis=1)"
   ]
  },
  {
   "cell_type": "code",
   "execution_count": 9,
   "metadata": {},
   "outputs": [
    {
     "name": "stdout",
     "output_type": "stream",
     "text": [
      "Test Accuracy: 69.00%\n"
     ]
    }
   ],
   "source": [
    "X, y = make_classification(n_samples=1000, n_features=20, n_classes=3, n_informative=15)\n",
    "y = OneHotEncoder(sparse_output=False).fit_transform(y.reshape(-1, 1))\n",
    "X_train, X_test, Y_train, Y_test = train_test_split(X, y, test_size=0.2)\n",
    "params = train(X_train, Y_train)\n",
    "y_pred = predict(X_test, params)\n",
    "accuracy = np.mean(y_pred == np.argmax(Y_test, axis=1))\n",
    "print(f\"Test Accuracy: {accuracy * 100:.2f}%\")\n"
   ]
  },
  {
   "cell_type": "code",
   "execution_count": null,
   "metadata": {},
   "outputs": [],
   "source": []
  },
  {
   "cell_type": "code",
   "execution_count": null,
   "metadata": {},
   "outputs": [],
   "source": []
  },
  {
   "cell_type": "code",
   "execution_count": null,
   "metadata": {},
   "outputs": [],
   "source": []
  }
 ],
 "metadata": {
  "kernelspec": {
   "display_name": "Python 3",
   "language": "python",
   "name": "python3"
  },
  "language_info": {
   "codemirror_mode": {
    "name": "ipython",
    "version": 3
   },
   "file_extension": ".py",
   "mimetype": "text/x-python",
   "name": "python",
   "nbconvert_exporter": "python",
   "pygments_lexer": "ipython3",
   "version": "3.11.0"
  }
 },
 "nbformat": 4,
 "nbformat_minor": 2
}
