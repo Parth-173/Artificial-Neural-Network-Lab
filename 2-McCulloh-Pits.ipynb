{
 "cells": [
  {
   "cell_type": "code",
   "execution_count": 1,
   "metadata": {},
   "outputs": [],
   "source": [
    "import tensorflow as tf\n",
    "import numpy as np\n",
    "import pandas as pd\n"
   ]
  },
  {
   "cell_type": "code",
   "execution_count": 2,
   "metadata": {},
   "outputs": [],
   "source": [
    "def mcCullohPits(inputs, weights, threshold):\n",
    "    \"\"\"\n",
    "    Implements the McCulloch-Pitts model for a binary threshold neuron.\n",
    "\n",
    "    The function calculates the weighted sum of the inputs and compares it \n",
    "    to a given threshold. If the weighted sum is greater than or equal to the \n",
    "    threshold, the output is 1. Otherwise, the output is 0.\n",
    "\n",
    "    Args:\n",
    "        inputs (tf.Tensor or list/array): The input values to the neuron.\n",
    "        weights (tf.Tensor or list/array): The weights associated with the inputs.\n",
    "        threshold (float): The threshold value for the activation.\n",
    "\n",
    "    Returns:\n",
    "        tf.Tensor: A tensor containing the output of the neuron (1.0 or 0.0).\n",
    "    \"\"\"\n",
    "    weightedSum = tf.reduce_sum(tf.multiply(inputs,weights))\n",
    "    output = tf.cond(weightedSum >= threshold,lambda:1.0,lambda:0.0)\n",
    "    return output"
   ]
  },
  {
   "cell_type": "code",
   "execution_count": 4,
   "metadata": {},
   "outputs": [
    {
     "name": "stdout",
     "output_type": "stream",
     "text": [
      "1.0\n"
     ]
    }
   ],
   "source": [
    "inputs = [float(input(\"Enter input value: \")) for _ in range(2)]\n",
    "weights = [float(input(\"Enter weight value: \")) for _ in range(2)]\n",
    "\n",
    "inputs_tensor = tf.constant(inputs, dtype=tf.float32)\n",
    "weights_tensor = tf.constant(weights, dtype=tf.float32)\n",
    "\n",
    "threshold = tf.constant(0.7, dtype=tf.float32)\n",
    "\n",
    "output = mcCullohPits(inputs,weights,threshold)\n",
    "print(output)"
   ]
  },
  {
   "cell_type": "code",
   "execution_count": null,
   "metadata": {},
   "outputs": [],
   "source": []
  },
  {
   "cell_type": "code",
   "execution_count": null,
   "metadata": {},
   "outputs": [],
   "source": []
  }
 ],
 "metadata": {
  "kernelspec": {
   "display_name": "Python 3",
   "language": "python",
   "name": "python3"
  },
  "language_info": {
   "codemirror_mode": {
    "name": "ipython",
    "version": 3
   },
   "file_extension": ".py",
   "mimetype": "text/x-python",
   "name": "python",
   "nbconvert_exporter": "python",
   "pygments_lexer": "ipython3",
   "version": "3.11.0"
  }
 },
 "nbformat": 4,
 "nbformat_minor": 2
}
