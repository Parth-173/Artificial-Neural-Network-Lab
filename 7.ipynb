{
 "cells": [
  {
   "cell_type": "markdown",
   "id": "e13f2b05",
   "metadata": {},
   "source": [
    "### Practical No. 7"
   ]
  },
  {
   "cell_type": "code",
   "execution_count": 2,
   "id": "cc27c943",
   "metadata": {},
   "outputs": [
    {
     "name": "stdout",
     "output_type": "stream",
     "text": [
      "Epoch 0, Loss: 0.4988\n",
      "Epoch 1000, Loss: 0.4972\n",
      "Epoch 2000, Loss: 0.4750\n",
      "Epoch 3000, Loss: 0.3845\n",
      "Epoch 4000, Loss: 0.2557\n",
      "Epoch 5000, Loss: 0.1509\n",
      "Epoch 6000, Loss: 0.1046\n",
      "Epoch 7000, Loss: 0.0810\n",
      "Epoch 8000, Loss: 0.0670\n",
      "Epoch 9000, Loss: 0.0577\n",
      "Final predicted outputs:\n",
      "[[0.03402405]\n",
      " [0.94198532]\n",
      " [0.95044208]\n",
      " [0.06293454]]\n"
     ]
    }
   ],
   "source": [
    "import numpy as np\n",
    "def sigmoid(x):\n",
    "    return 1 / (1 + np.exp(-x))\n",
    "def sigmoid_derivative(x):\n",
    "    return x * (1 - x)\n",
    "inputs = np.array([[0, 0],[0, 1],[1, 0],[1, 1]])\n",
    "outputs = np.array([[0], [1], [1], [0]])  \n",
    "epochs = 10000\n",
    "learning_rate = 0.1\n",
    "hidden_neurons = 4\n",
    "input_layer_neurons = inputs.shape[1]\n",
    "output_neurons = outputs.shape[1]\n",
    "weights_input_hidden = np.random.uniform(size=(input_layer_neurons, hidden_neurons))\n",
    "weights_hidden_output = np.random.uniform(size=(hidden_neurons, output_neurons))\n",
    "bias_hidden = np.random.uniform(size=(1, hidden_neurons))\n",
    "bias_output = np.random.uniform(size=(1, output_neurons))\n",
    "for epoch in range(epochs):\n",
    "    hidden_layer_input = np.dot(inputs, weights_input_hidden) + bias_hidden\n",
    "    hidden_layer_output = sigmoid(hidden_layer_input)\n",
    "    output_layer_input = np.dot(hidden_layer_output, weights_hidden_output) + bias_output\n",
    "    predicted_output = sigmoid(output_layer_input)\n",
    "    error = outputs - predicted_output\n",
    "    output_gradient = error * sigmoid_derivative(predicted_output)\n",
    "    hidden_layer_error = output_gradient.dot(weights_hidden_output.T)\n",
    "    hidden_gradient = hidden_layer_error * sigmoid_derivative(hidden_layer_output)\n",
    "    weights_hidden_output += hidden_layer_output.T.dot(output_gradient) * learning_rate\n",
    "    weights_input_hidden += inputs.T.dot(hidden_gradient) * learning_rate\n",
    "    bias_output += np.sum(output_gradient, axis=0, keepdims=True) * learning_rate\n",
    "    bias_hidden += np.sum(hidden_gradient, axis=0, keepdims=True) * learning_rate\n",
    "    if epoch % 1000 == 0:\n",
    "        loss = np.mean(np.abs(error))\n",
    "        print(f\"Epoch {epoch}, Loss: {loss:.4f}\")\n",
    "print(\"Final predicted outputs:\")\n",
    "print(predicted_output)"
   ]
  }
 ],
 "metadata": {
  "kernelspec": {
   "display_name": "Python 3",
   "language": "python",
   "name": "python3"
  },
  "language_info": {
   "codemirror_mode": {
    "name": "ipython",
    "version": 3
   },
   "file_extension": ".py",
   "mimetype": "text/x-python",
   "name": "python",
   "nbconvert_exporter": "python",
   "pygments_lexer": "ipython3",
   "version": "3.11.0"
  }
 },
 "nbformat": 4,
 "nbformat_minor": 5
}
