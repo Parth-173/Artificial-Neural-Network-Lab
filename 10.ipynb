{
 "cells": [
  {
   "cell_type": "markdown",
   "id": "deaecd14",
   "metadata": {},
   "source": [
    "### Practical No. 10"
   ]
  },
  {
   "cell_type": "code",
   "execution_count": 2,
   "id": "9862d2cc",
   "metadata": {},
   "outputs": [
    {
     "name": "stdout",
     "output_type": "stream",
     "text": [
      "Recalled Pattern: [1, 1, 1, -1]\n"
     ]
    }
   ],
   "source": [
    "import numpy as np\n",
    "\n",
    "class HopfieldNetwork:\n",
    "    def __init__(self, size):\n",
    "        self.size = size\n",
    "        self.weights = np.zeros((size, size))\n",
    "\n",
    "    def train(self, patterns):\n",
    "        for p in patterns:\n",
    "            p = np.array(p)\n",
    "            self.weights += np.outer(p, p)\n",
    "        np.fill_diagonal(self.weights, 0)\n",
    "        self.weights /= len(patterns)\n",
    "\n",
    "    def recall(self, pattern, steps=5):\n",
    "        pattern = np.array(pattern)\n",
    "        for _ in range(steps):\n",
    "            for i in range(self.size):\n",
    "                raw = np.dot(self.weights[i], pattern)\n",
    "                pattern[i] = 1 if raw >= 0 else -1\n",
    "        return pattern\n",
    "\n",
    "if __name__ == \"__main__\":\n",
    "    patterns = [\n",
    "        [1, -1, 1, -1],\n",
    "        [-1, -1, -1, 1],\n",
    "        [1, 1, -1, -1],\n",
    "        [-1, 1, 1, 1]\n",
    "    ]\n",
    "\n",
    "    hopfield = HopfieldNetwork(size=4)\n",
    "    hopfield.train(patterns)\n",
    "\n",
    "    test_pattern = [1, -1, 1, -1]\n",
    "    recalled = hopfield.recall(test_pattern)\n",
    "    print(\"Recalled Pattern:\", recalled.tolist())\n"
   ]
  }
 ],
 "metadata": {
  "kernelspec": {
   "display_name": "Python 3",
   "language": "python",
   "name": "python3"
  },
  "language_info": {
   "codemirror_mode": {
    "name": "ipython",
    "version": 3
   },
   "file_extension": ".py",
   "mimetype": "text/x-python",
   "name": "python",
   "nbconvert_exporter": "python",
   "pygments_lexer": "ipython3",
   "version": "3.11.0"
  }
 },
 "nbformat": 4,
 "nbformat_minor": 5
}
