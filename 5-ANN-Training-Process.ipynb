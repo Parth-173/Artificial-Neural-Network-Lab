{
 "cells": [
  {
   "cell_type": "code",
   "execution_count": 19,
   "metadata": {},
   "outputs": [],
   "source": [
    "import numpy as np\n",
    "from matplotlib.pylab import randn\n",
    "from math import exp"
   ]
  },
  {
   "cell_type": "code",
   "execution_count": 20,
   "metadata": {},
   "outputs": [],
   "source": [
    "def sigmoid(x):\n",
    "    return 1 / (1 + np.exp(-x))\n",
    "\n",
    "def sigmoidDerivative(x):\n",
    "    return x * (1 - x)"
   ]
  },
  {
   "cell_type": "code",
   "execution_count": 21,
   "metadata": {},
   "outputs": [],
   "source": [
    "class NeuralNetwork:\n",
    "    def __init__(self, layerSizes):\n",
    "        self.layerSizes = layerSizes\n",
    "        self.weights = []\n",
    "        for i in range(1, len(layerSizes)):\n",
    "            self.weights.append(np.random.randn(layerSizes[i - 1], layerSizes[i]))\n",
    "\n",
    "    def forwardPropagation(self, inputData):\n",
    "        self.activations = [inputData]\n",
    "        self.zValues = []\n",
    "        for i in range(len(self.layerSizes) - 1):\n",
    "            z = np.dot(self.activations[i], self.weights[i])\n",
    "            self.zValues.append(z)\n",
    "            activation = sigmoid(z)\n",
    "            self.activations.append(activation)\n",
    "        return self.activations[-1]\n",
    "\n",
    "    def backwardPropagation(self, inputData, targetOutput, learningRate):\n",
    "        output = self.forwardPropagation(inputData)\n",
    "        error = targetOutput - output\n",
    "        delta = error * sigmoidDerivative(output)\n",
    "\n",
    "        for i in range(len(self.layerSizes) - 2, -1, -1):\n",
    "            gradient = np.dot(self.activations[i].T, delta)\n",
    "            self.weights[i] += learningRate * gradient\n",
    "            error = np.dot(delta, self.weights[i].T)\n",
    "            delta = error * sigmoidDerivative(self.activations[i])\n",
    "\n",
    "    def train(self, inputData, targetOutput, epochs, learningRate):\n",
    "        for _ in range(epochs):\n",
    "            self.backwardPropagation(inputData, targetOutput, learningRate)\n",
    "        return self.forwardPropagation(inputData)"
   ]
  },
  {
   "cell_type": "code",
   "execution_count": 24,
   "metadata": {},
   "outputs": [
    {
     "name": "stdout",
     "output_type": "stream",
     "text": [
      "Output after training:\n",
      "[[0.10414124]\n",
      " [0.92482332]\n",
      " [0.92004661]\n",
      " [0.0578901 ]]\n"
     ]
    }
   ],
   "source": [
    "X = np.array([[0, 0], [0, 1], [1, 0], [1, 1]])\n",
    "y = np.array([[0], [1], [1], [0]])\n",
    "\n",
    "layerSizes = [2, 4, 1]\n",
    "\n",
    "nn = NeuralNetwork(layerSizes)\n",
    "\n",
    "output = nn.train(X, y, epochs=10000, learningRate=0.1)\n",
    "\n",
    "print(\"Output after training:\")\n",
    "print(output)"
   ]
  }
 ],
 "metadata": {
  "kernelspec": {
   "display_name": "Python 3",
   "language": "python",
   "name": "python3"
  },
  "language_info": {
   "codemirror_mode": {
    "name": "ipython",
    "version": 3
   },
   "file_extension": ".py",
   "mimetype": "text/x-python",
   "name": "python",
   "nbconvert_exporter": "python",
   "pygments_lexer": "ipython3",
   "version": "3.11.0"
  }
 },
 "nbformat": 4,
 "nbformat_minor": 2
}
